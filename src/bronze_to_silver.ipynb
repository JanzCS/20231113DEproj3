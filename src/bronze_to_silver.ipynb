{
 "cells": [
  {
   "cell_type": "code",
   "execution_count": 0,
   "metadata": {
    "application/vnd.databricks.v1+cell": {
     "cellMetadata": {
      "byteLimit": 2048000,
      "rowLimit": 10000
     },
     "inputWidgets": {},
     "nuid": "e67b7ae0-70c6-4c7c-84c6-f3f25d710b51",
     "showTitle": false,
     "title": ""
    }
   },
   "outputs": [],
   "source": [
    "# load in files from bronze layer\n",
    "raw_cont_name = \"landing-zone\"\n",
    "storage_acct_name = \"20231113desa\"\n",
    "location_from_container = \"usa_spending/\"\n",
    "\n",
    "assistance_location = f\"abfss://{raw_cont_name}@{storage_acct_name}.dfs.core.windows.net/{location_from_container}assistance\"\n",
    "contract_location = f\"abfss://{raw_cont_name}@{storage_acct_name}.dfs.core.windows.net/{location_from_container}contract\"\n",
    "\n",
    "# two dataframes for each file type\n",
    "assistance = spark.read.csv(assistance_location, header=True, inferSchema=True)\n",
    "contract = spark.read.csv(contract_location, header=True, inferSchema=True)\n",
    "\n",
    "# external data processing\n",
    "# remove columns, rename, rorder\n",
    "# make sure tables are dimensionalized"
   ]
  },
  {
   "cell_type": "code",
   "execution_count": 0,
   "metadata": {
    "application/vnd.databricks.v1+cell": {
     "cellMetadata": {
      "byteLimit": 2048000,
      "rowLimit": 10000
     },
     "collapsed": true,
     "inputWidgets": {},
     "nuid": "622c716b-35b6-4532-af98-e215cc95f62c",
     "showTitle": false,
     "title": ""
    }
   },
   "outputs": [],
   "source": [
    "wanted_cols = [\n",
    "    \"contract_transaction_unique_key\",\n",
    "    \"contract_award_unique_key\",\n",
    "    \"assistance_transaction_unique_key\",\n",
    "    \"assistance_award_unique_key\",\n",
    "    \"modification_number\",\n",
    "    \"federal_action_obligation\",\n",
    "    \"total_obligated_amount\",\n",
    "    \"total_dollars_obligated\",\n",
    "    \"total_outlayed_amount_for_overall_award\",\n",
    "    \"face_value_of_loan\",\n",
    "    \"original_loan_subsidy_cost\",\n",
    "    \"total_face_value_of_loan\",\n",
    "    \"total_loan_subsidy_cost\",\n",
    "    \"disaster_emergency_fund_codes_for_overall_award\",\n",
    "    \"outlayed_amount_from_COVID-19_supplementals_for_overall_award\",\n",
    "    \"obligated_amount_from_COVID-19_supplementals_for_overall_award\",\n",
    "    \"action_date\",\n",
    "    \"action_date_fiscal_year\",\n",
    "    \"awarding_agency_code\",\n",
    "    \"awarding_agency_name\",\n",
    "    \"awarding_sub_agency_code\",\n",
    "    \"awarding_sub_agency_name\",\n",
    "    \"awarding_office_code\",\n",
    "    \"awarding_office_name\",\n",
    "    \"funding_agency_code\",\n",
    "    \"funding_agency_name\",\n",
    "    \"funding_sub_agency_code\",\n",
    "    \"funding_sub_agency_name\",\n",
    "    \"funding_office_code\",\n",
    "    \"funding_office_name\",\n",
    "    \"object_classes_funding_this_award\",\n",
    "    \"program_activities_funding_this_award\",\n",
    "    \"recipient_uei\",\n",
    "    \"recipient_name_raw\",\n",
    "    \"recipient_parent_uei\",\n",
    "    \"recipient_parent_name_raw\",\n",
    "    \"recipient_country_code\",\n",
    "    \"recipient_country_name\",\n",
    "    \"recipient_city_code\",\n",
    "    \"recipient_city_name\",\n",
    "    \"prime_award_transaction_recipient_county_fips_code\",\n",
    "    \"recipient_county_name\",\n",
    "    \"prime_award_transaction_recipient_state_fips_code\",\n",
    "    \"recipient_state_code\",\n",
    "    \"recipient_state_name\",\n",
    "    \"recipient_zip_code\",\n",
    "    \"recipient_zip_last_4_code\",\n",
    "    \"prime_award_transaction_recipient_cd_original\",\n",
    "    \"prime_award_transaction_recipient_cd_current\",\n",
    "    \"recipient_foreign_city_name\",\n",
    "    \"recipient_foreign_province_name\",\n",
    "    \"recipient_foreign_postal_code\",\n",
    "    \"primary_place_of_performance_scope\",\n",
    "    \"primary_place_of_performance_country_code\",\n",
    "    \"primary_place_of_performance_country_name\",\n",
    "    \"primary_place_of_performance_code\",\n",
    "    \"primary_place_of_performance_city_name\",\n",
    "    \"prime_award_transaction_place_of_performance_county_fips_code\",\n",
    "    \"primary_place_of_performance_county_name\",\n",
    "    \"prime_award_transaction_place_of_performance_state_fips_code\",\n",
    "    \"primary_place_of_performance_state_name\",\n",
    "    \"primary_place_of_performance_zip_4\",\n",
    "    \"prime_award_transaction_place_of_performance_cd_original\",\n",
    "    \"prime_award_transaction_place_of_performance_cd_current\",\n",
    "    \"primary_place_of_performance_foreign_location\",\n",
    "    \"cfda_number\",\n",
    "    \"cfda_title\",\n",
    "    \"naics_code\",\n",
    "    \"naics_description\",\n",
    "    \"place_of_manufacture_code\",\n",
    "    \"place_of_manufacture\",\n",
    "    \"national_interest_action_code\",\n",
    "    \"national_interest_action\",\n",
    "    \"country_of_product_or_service_origin_code\",\n",
    "    \"country_of_product_or_service_origin\",\n",
    "    \"contingency_humanitarian_or_peacekeeping_operation_code\",\n",
    "    \"contingency_humanitarian_or_peacekeeping_operation\",\n",
    "    \"contracting_officers_determination_of_business_size\",\n",
    "    \"contracting_officers_determination_of_business_size_code\",\n",
    "    \"business_types_code\",\n",
    "    \"business_types_description\",\n",
    "    \"correction_delete_indicator_code\",\n",
    "    \"correction_delete_indicator_description\",\n",
    "    \"action_type_code\",\n",
    "    \"action_type_description\",\n",
    "    \"record_type_code\",\n",
    "    \"record_type_description\",\n",
    "    \"domestic_or_foreign_entity_code\",\n",
    "    \"domestic_or_foreign_entity\",\n",
    "    \"foreign_funding\",\n",
    "    \"domestic_or_foreign_entity_code\",\n",
    "    \"domestic_or_foreign_entity\",\n",
    "    \"foreign_funding_description\",\n",
    "    \"product_or_service_code\",\n",
    "    \"product_or_service_code_description\",\n",
    "    \"highly_compensated_officer_1_name\",\n",
    "    \"highly_compensated_officer_1_amount\",\n",
    "    \"highly_compensated_officer_2_name\",\n",
    "    \"highly_compensated_officer_2_amount\",\n",
    "    \"highly_compensated_officer_3_name\",\n",
    "    \"highly_compensated_officer_3_amount\",\n",
    "    \"highly_compensated_officer_4_name\",\n",
    "    \"highly_compensated_officer_4_amount\",\n",
    "    \"highly_compensated_officer_5_name\",\n",
    "    \"highly_compensated_officer_5_amount\",\n",
    "    \"last_modified_date\",\n",
    "]"
   ]
  },
  {
   "cell_type": "code",
   "execution_count": 0,
   "metadata": {
    "application/vnd.databricks.v1+cell": {
     "cellMetadata": {
      "byteLimit": 2048000,
      "rowLimit": 10000
     },
     "inputWidgets": {},
     "nuid": "b68b0ba0-d326-4034-b29b-92e27c6e98db",
     "showTitle": false,
     "title": ""
    }
   },
   "outputs": [],
   "source": [
    "# remove any unecessary columns from each dataframe\n",
    "assistance = assistance.select([col for col in wanted_cols if col in assistance.columns])\n",
    "contract = contract.select([col for col in wanted_cols if col in contract.columns])"
   ]
  },
  {
   "cell_type": "code",
   "execution_count": 0,
   "metadata": {
    "application/vnd.databricks.v1+cell": {
     "cellMetadata": {
      "byteLimit": 2048000,
      "rowLimit": 10000
     },
     "inputWidgets": {},
     "nuid": "1c7dcbd2-caa2-41be-bcc2-3b98f9d30720",
     "showTitle": false,
     "title": ""
    }
   },
   "outputs": [],
   "source": [
    "display(assistance)\n",
    "display(contract)"
   ]
  },
  {
   "cell_type": "code",
   "execution_count": 0,
   "metadata": {
    "application/vnd.databricks.v1+cell": {
     "cellMetadata": {
      "byteLimit": 2048000,
      "rowLimit": 10000
     },
     "inputWidgets": {},
     "nuid": "2eda1438-2c25-4781-ad67-62596faa9a27",
     "showTitle": false,
     "title": ""
    }
   },
   "outputs": [],
   "source": [
    "from pyspark.sql.functions import lit\n",
    "\n",
    "# rename? (make sure that if columns are shared you rename to the same name)\n",
    "assistance = assistance.withColumnRenamed('assistance_transaction_unique_key', 'transaction_unique_key').withColumnRenamed('assistance_award_unique_key', 'award_unique_key').withColumn('award_type', lit('assistance'))\n",
    "contract = contract.withColumnRenamed('contract_transaction_unique_key', 'transaction_unique_key').withColumnRenamed('total_dollars_obligated', 'total_obligated_amount').withColumnRenamed('contract_award_unique_key', 'award_unique_key').withColumn('award_type', lit('contract'))\n"
   ]
  }
 ],
 "metadata": {
  "application/vnd.databricks.v1+notebook": {
   "dashboards": [],
   "language": "python",
   "notebookMetadata": {
    "pythonIndentUnit": 4
   },
   "notebookName": "bronze_to_silver",
   "widgets": {}
  },
  "language_info": {
   "name": "python"
  }
 },
 "nbformat": 4,
 "nbformat_minor": 0
}
