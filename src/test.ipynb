{
 "cells": [
  {
   "cell_type": "code",
   "execution_count": 0,
   "metadata": {
    "application/vnd.databricks.v1+cell": {
     "cellMetadata": {},
     "inputWidgets": {},
     "nuid": "28a541b3-c706-493e-b815-ceafe3bc2b4e",
     "showTitle": false,
     "title": ""
    }
   },
   "outputs": [],
   "source": [
    "#comment\n"
   ]
  },
  {
   "cell_type": "code",
   "execution_count": 0,
   "metadata": {
    "application/vnd.databricks.v1+cell": {
     "cellMetadata": {
      "byteLimit": 2048000,
      "rowLimit": 10000
     },
     "inputWidgets": {},
     "nuid": "fd6cbeee-b695-4635-b466-8a8886ea59bf",
     "showTitle": false,
     "title": ""
    }
   },
   "outputs": [],
   "source": [
    "unemployment = spark.read.format(\"csv\").option('header', 'True').load(\"abfss://landing-zone@20231113desa.dfs.core.windows.net/usa_spending/external_data/Unemployment.csv\")"
   ]
  },
  {
   "cell_type": "code",
   "execution_count": 0,
   "metadata": {
    "application/vnd.databricks.v1+cell": {
     "cellMetadata": {
      "byteLimit": 2048000,
      "rowLimit": 10000
     },
     "inputWidgets": {},
     "nuid": "b62c6734-7391-4ee1-97fb-6ac0921c6036",
     "showTitle": false,
     "title": ""
    }
   },
   "outputs": [],
   "source": [
    "display(unemployment)"
   ]
  },
  {
   "cell_type": "code",
   "execution_count": 0,
   "metadata": {
    "application/vnd.databricks.v1+cell": {
     "cellMetadata": {
      "byteLimit": 2048000,
      "rowLimit": 10000
     },
     "inputWidgets": {},
     "nuid": "d4906dbf-1acc-4054-b8e3-dcf2dc666da9",
     "showTitle": false,
     "title": ""
    }
   },
   "outputs": [],
   "source": [
    "unemployment = unemployment.select('FIPS_Code', 'unemployment_rate_2019', 'unemployment_rate_2020', 'unemployment_rate_2021', 'unemployment_rate_2022', 'median_household_income_2021')"
   ]
  },
  {
   "cell_type": "code",
   "execution_count": 0,
   "metadata": {
    "application/vnd.databricks.v1+cell": {
     "cellMetadata": {
      "byteLimit": 2048000,
      "rowLimit": 10000
     },
     "inputWidgets": {},
     "nuid": "f1d2304d-f01b-4c34-8d52-91b8c8a79722",
     "showTitle": false,
     "title": ""
    }
   },
   "outputs": [],
   "source": [
    "unemployment.display()"
   ]
  },
  {
   "cell_type": "code",
   "execution_count": 0,
   "metadata": {
    "application/vnd.databricks.v1+cell": {
     "cellMetadata": {
      "byteLimit": 2048000,
      "rowLimit": 10000
     },
     "inputWidgets": {},
     "nuid": "9b3902f6-4d4f-4588-b349-4db9365ae05d",
     "showTitle": false,
     "title": ""
    }
   },
   "outputs": [],
   "source": [
    "congressional = spark.read.format(\"csv\").option('header', 'true').load(\"abfss://landing-zone@20231113desa.dfs.core.windows.net/usa_spending/external_data/1976-2022-house.csv\")"
   ]
  },
  {
   "cell_type": "code",
   "execution_count": 0,
   "metadata": {
    "application/vnd.databricks.v1+cell": {
     "cellMetadata": {
      "byteLimit": 2048000,
      "rowLimit": 10000
     },
     "inputWidgets": {},
     "nuid": "7e23316d-8b16-4dc3-8ec4-e0a03297cc45",
     "showTitle": false,
     "title": ""
    }
   },
   "outputs": [],
   "source": [
    "congressional.display()"
   ]
  },
  {
   "cell_type": "code",
   "execution_count": 0,
   "metadata": {
    "application/vnd.databricks.v1+cell": {
     "cellMetadata": {
      "byteLimit": 2048000,
      "rowLimit": 10000
     },
     "inputWidgets": {},
     "nuid": "15982bf5-d0be-42e9-b82a-a43fcbf6f413",
     "showTitle": false,
     "title": ""
    }
   },
   "outputs": [],
   "source": [
    "from pyspark.sql.functions import regexp_replace\n",
    "\n",
    "congressional = congressional.withColumn('district', regexp_replace('district', r'^[0]', ''))"
   ]
  },
  {
   "cell_type": "code",
   "execution_count": 0,
   "metadata": {
    "application/vnd.databricks.v1+cell": {
     "cellMetadata": {
      "byteLimit": 2048000,
      "rowLimit": 10000
     },
     "inputWidgets": {},
     "nuid": "0843590e-b610-43ed-adfd-0cd38c89a315",
     "showTitle": false,
     "title": ""
    }
   },
   "outputs": [],
   "source": [
    "congressional.display()"
   ]
  },
  {
   "cell_type": "code",
   "execution_count": 0,
   "metadata": {
    "application/vnd.databricks.v1+cell": {
     "cellMetadata": {
      "byteLimit": 2048000,
      "rowLimit": 10000
     },
     "inputWidgets": {},
     "nuid": "20a223fd-90bd-4a97-bac1-8bf066ede7e7",
     "showTitle": false,
     "title": ""
    }
   },
   "outputs": [],
   "source": [
    "congressional.display()"
   ]
  },
  {
   "cell_type": "code",
   "execution_count": 0,
   "metadata": {
    "application/vnd.databricks.v1+cell": {
     "cellMetadata": {
      "byteLimit": 2048000,
      "rowLimit": 10000
     },
     "inputWidgets": {},
     "nuid": "910e843a-45e5-41e5-8dcc-bf0c5f9763e7",
     "showTitle": false,
     "title": ""
    }
   },
   "outputs": [],
   "source": [
    "congressional = congressional.where(\"year >= 2018\")"
   ]
  },
  {
   "cell_type": "code",
   "execution_count": 0,
   "metadata": {
    "application/vnd.databricks.v1+cell": {
     "cellMetadata": {
      "byteLimit": 2048000,
      "rowLimit": 10000
     },
     "inputWidgets": {},
     "nuid": "3e838efc-1779-4bb4-a1df-9e7f054e78ef",
     "showTitle": false,
     "title": ""
    }
   },
   "outputs": [],
   "source": [
    "congressional.display()"
   ]
  },
  {
   "cell_type": "code",
   "execution_count": 0,
   "metadata": {
    "application/vnd.databricks.v1+cell": {
     "cellMetadata": {
      "byteLimit": 2048000,
      "rowLimit": 10000
     },
     "inputWidgets": {},
     "nuid": "873dcbfd-4426-4533-b65b-7500e1b0b224",
     "showTitle": false,
     "title": ""
    }
   },
   "outputs": [],
   "source": [
    "congressional = congressional.select('year', 'state', 'state_fips', 'district', 'party', 'candidatevotes')"
   ]
  },
  {
   "cell_type": "code",
   "execution_count": 0,
   "metadata": {
    "application/vnd.databricks.v1+cell": {
     "cellMetadata": {
      "byteLimit": 2048000,
      "rowLimit": 10000
     },
     "inputWidgets": {},
     "nuid": "c45cee49-0f6b-4de4-85ba-cd67c825e3e7",
     "showTitle": false,
     "title": ""
    }
   },
   "outputs": [],
   "source": [
    "congressional.display()"
   ]
  },
  {
   "cell_type": "code",
   "execution_count": 0,
   "metadata": {
    "application/vnd.databricks.v1+cell": {
     "cellMetadata": {
      "byteLimit": 2048000,
      "rowLimit": 10000
     },
     "inputWidgets": {},
     "nuid": "4e8c3f08-55d7-4031-8304-7285f9f1fd0c",
     "showTitle": false,
     "title": ""
    }
   },
   "outputs": [],
   "source": [
    "from pyspark.sql.types import IntegerType\n",
    "congressional = congressional.withColumn('candidatevotes', congressional.candidatevotes.cast(IntegerType()))"
   ]
  },
  {
   "cell_type": "code",
   "execution_count": 0,
   "metadata": {
    "application/vnd.databricks.v1+cell": {
     "cellMetadata": {
      "byteLimit": 2048000,
      "rowLimit": 10000
     },
     "inputWidgets": {},
     "nuid": "53294b1c-2536-4bf6-a006-51a8b7b30138",
     "showTitle": false,
     "title": ""
    }
   },
   "outputs": [],
   "source": [
    "winner_df = congressional.groupBy('year', 'state', 'state_fips', 'district').max('candidatevotes')"
   ]
  },
  {
   "cell_type": "code",
   "execution_count": 0,
   "metadata": {
    "application/vnd.databricks.v1+cell": {
     "cellMetadata": {
      "byteLimit": 2048000,
      "rowLimit": 10000
     },
     "inputWidgets": {},
     "nuid": "a20acd61-0762-41c3-a1af-f63dc8cf663f",
     "showTitle": false,
     "title": ""
    }
   },
   "outputs": [],
   "source": [
    "final_df = winner_df.join(congressional, ['state_fips', 'district', 'year', 'state'], how='inner')\n",
    "display(final_df)"
   ]
  },
  {
   "cell_type": "code",
   "execution_count": 0,
   "metadata": {
    "application/vnd.databricks.v1+cell": {
     "cellMetadata": {
      "byteLimit": 2048000,
      "rowLimit": 10000
     },
     "inputWidgets": {},
     "nuid": "be85a48c-0991-4576-85a7-fa20a2c3cfe7",
     "showTitle": false,
     "title": ""
    }
   },
   "outputs": [],
   "source": [
    "final_df = final_df.drop('candidatevotes')"
   ]
  },
  {
   "cell_type": "code",
   "execution_count": 0,
   "metadata": {
    "application/vnd.databricks.v1+cell": {
     "cellMetadata": {
      "byteLimit": 2048000,
      "rowLimit": 10000
     },
     "inputWidgets": {},
     "nuid": "5e743fbd-4289-4bde-b638-bcad1b196515",
     "showTitle": false,
     "title": ""
    }
   },
   "outputs": [],
   "source": [
    "final_df.display()"
   ]
  },
  {
   "cell_type": "code",
   "execution_count": 0,
   "metadata": {
    "application/vnd.databricks.v1+cell": {
     "cellMetadata": {},
     "inputWidgets": {},
     "nuid": "d0ff66f1-0e73-4c8e-8cb4-c08b7047562b",
     "showTitle": false,
     "title": ""
    }
   },
   "outputs": [],
   "source": []
  }
 ],
 "metadata": {
  "application/vnd.databricks.v1+notebook": {
   "dashboards": [],
   "language": "python",
   "notebookMetadata": {
    "pythonIndentUnit": 4
   },
   "notebookName": "test",
   "widgets": {}
  },
  "language_info": {
   "name": "python"
  }
 },
 "nbformat": 4,
 "nbformat_minor": 0
}
